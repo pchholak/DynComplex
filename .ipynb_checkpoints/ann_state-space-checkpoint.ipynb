{
 "cells": [
  {
   "cell_type": "code",
   "execution_count": 25,
   "metadata": {},
   "outputs": [
    {
     "name": "stdout",
     "output_type": "stream",
     "text": [
      "Using matplotlib backend: Qt5Agg\n"
     ]
    }
   ],
   "source": [
    "%matplotlib\n",
    "import numpy as np\n",
    "import matplotlib.pyplot as plt\n",
    "from complexity_preprocess import load_scouts, create_inducedfields\n",
    "from sklearn.utils import shuffle"
   ]
  },
  {
   "cell_type": "code",
   "execution_count": 2,
   "metadata": {},
   "outputs": [],
   "source": [
    "root = 'D:/MATLAB/Perception/Trials/'\n",
    "subject, sf1, sf0 = 5, 'F', 'B'\n",
    "fscouts = 'D:/Research/Academic/PhD/Perception/Results/SourceLocal/scout_V1_V2.mat'"
   ]
  },
  {
   "cell_type": "code",
   "execution_count": 3,
   "metadata": {},
   "outputs": [],
   "source": [
    "scouts = load_scouts(fscouts)"
   ]
  },
  {
   "cell_type": "code",
   "execution_count": 16,
   "metadata": {},
   "outputs": [],
   "source": [
    "subject_name = 'Sub' + str(subject)\n",
    "data_f = create_inducedfields(root, subject_name, sf1, scouts)\n",
    "data_b = create_inducedfields(root, subject_name, sf0, scouts)"
   ]
  },
  {
   "cell_type": "code",
   "execution_count": 23,
   "metadata": {},
   "outputs": [],
   "source": [
    "vif_f1, vif_f2 = data_f[0, :, [0, 1]]\n",
    "vif_f1, vif_f2 = shuffle(vif_f1, vif_f2, random_state=0)\n",
    "vif_b1, vif_b2 = data_b[0, :, [0, 1]]\n",
    "vif_b1, vif_b2 = shuffle(vif_b1, vif_b2, random_state=0)"
   ]
  },
  {
   "cell_type": "code",
   "execution_count": 28,
   "metadata": {},
   "outputs": [],
   "source": [
    "N = 1000\n",
    "plt.scatter(vif_f1[:N], vif_f2[:N], c='b')\n",
    "plt.scatter(vif_b1[:N], vif_b2[:N], c='r')\n",
    "plt.xlabel('VIF_1 * 10^(12)')\n",
    "plt.ylabel('VIF_2 * 10^(12)')\n",
    "plt.show()"
   ]
  },
  {
   "cell_type": "code",
   "execution_count": null,
   "metadata": {},
   "outputs": [],
   "source": []
  }
 ],
 "metadata": {
  "kernelspec": {
   "display_name": "Python 3",
   "language": "python",
   "name": "python3"
  },
  "language_info": {
   "codemirror_mode": {
    "name": "ipython",
    "version": 3
   },
   "file_extension": ".py",
   "mimetype": "text/x-python",
   "name": "python",
   "nbconvert_exporter": "python",
   "pygments_lexer": "ipython3",
   "version": "3.7.1"
  }
 },
 "nbformat": 4,
 "nbformat_minor": 2
}
